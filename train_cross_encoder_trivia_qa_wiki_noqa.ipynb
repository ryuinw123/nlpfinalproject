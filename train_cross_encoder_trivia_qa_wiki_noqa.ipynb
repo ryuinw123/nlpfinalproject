{
 "cells": [
  {
   "cell_type": "code",
   "execution_count": 1,
   "id": "4491a04f-2c6f-4e75-93aa-92a49f8f341e",
   "metadata": {},
   "outputs": [],
   "source": [
    "import os\n",
    "os.environ['CUDA_VISIBLE_DEVICES'] = \"0\""
   ]
  },
  {
   "cell_type": "code",
   "execution_count": 2,
   "id": "3a4ceb42-6c62-45c4-b336-bf7a1ad6266c",
   "metadata": {},
   "outputs": [
    {
     "data": {
      "application/vnd.jupyter.widget-view+json": {
       "model_id": "9d36b8a676bf4689ac3f512b56154013",
       "version_major": 2,
       "version_minor": 0
      },
      "text/plain": [
       "Loading dataset shards:   0%|          | 0/18 [00:00<?, ?it/s]"
      ]
     },
     "metadata": {},
     "output_type": "display_data"
    },
    {
     "data": {
      "application/vnd.jupyter.widget-view+json": {
       "model_id": "100f75f0e2e34d5b9a375149b9a97baa",
       "version_major": 2,
       "version_minor": 0
      },
      "text/plain": [
       "Loading dataset shards:   0%|          | 0/21 [00:00<?, ?it/s]"
      ]
     },
     "metadata": {},
     "output_type": "display_data"
    }
   ],
   "source": [
    "import ijson\n",
    "from datasets import Dataset , concatenate_datasets , DatasetDict\n",
    "from decimal import Decimal\n",
    "\n",
    "\n",
    "def safe_convert(value):\n",
    "    if isinstance(value, Decimal):\n",
    "        return float(value)  # or str(value) if you want string format\n",
    "    elif isinstance(value, dict):\n",
    "        return {k: safe_convert(v) for k, v in value.items()}\n",
    "    elif isinstance(value, list):\n",
    "        return [safe_convert(v) for v in value]\n",
    "    else:\n",
    "        return value\n",
    "\n",
    "def stream_json_array(file_path):\n",
    "    with open(file_path, 'rb') as f:\n",
    "        for item in ijson.items(f, 'item'):\n",
    "            yield safe_convert(item)\n",
    "\n",
    "tqa_dataset = Dataset.from_generator(lambda: stream_json_array(\"./dataset/document_tqa_train.json\"))\n",
    "wiki_dataset = Dataset.from_generator(lambda: stream_json_array(\"./dataset/document_two_wiki_qa_train.json\"))"
   ]
  },
  {
   "cell_type": "code",
   "execution_count": 3,
   "id": "fbed4ffb-37d7-4776-a1ad-ee9170f658fc",
   "metadata": {},
   "outputs": [],
   "source": [
    "max_length = 512\n",
    "stride = 256\n",
    "limit_data_per_sample = 5"
   ]
  },
  {
   "cell_type": "code",
   "execution_count": 4,
   "id": "496d8d9c-07af-4eff-b8c8-4f2bcc02ec13",
   "metadata": {},
   "outputs": [],
   "source": [
    "tqa_dataset = tqa_dataset.filter(\n",
    "    lambda example: (\n",
    "        sum(ctx[\"has_answer\"] for ctx in example[\"ctxs\"]) >= limit_data_per_sample and\n",
    "        sum(not ctx[\"has_answer\"] for ctx in example[\"ctxs\"]) >= limit_data_per_sample\n",
    "    )\n",
    ")\n",
    "\n",
    "wiki_dataset = wiki_dataset.filter(\n",
    "    lambda example: (\n",
    "        sum(ctx[\"gold_document\"] for ctx in example[\"ctxs\"]) >= 1 and\n",
    "        sum(not ctx[\"gold_document\"] for ctx in example[\"ctxs\"]) >= 1\n",
    "    )\n",
    ")"
   ]
  },
  {
   "cell_type": "code",
   "execution_count": 5,
   "id": "468c685e-aee9-4c9f-8b66-187f2f2e8b95",
   "metadata": {},
   "outputs": [],
   "source": [
    "tqa_dataset = tqa_dataset.train_test_split(test_size = 0.2 , seed = 42)\n",
    "wiki_dataset = wiki_dataset.train_test_split(test_size = 0.2 , seed = 42)"
   ]
  },
  {
   "cell_type": "code",
   "execution_count": 6,
   "id": "62d2fa5b-acf2-4596-8cd3-c361bde71502",
   "metadata": {},
   "outputs": [
    {
     "data": {
      "text/plain": [
       "DatasetDict({\n",
       "    train: Dataset({\n",
       "        features: ['question', 'answers', 'ctxs'],\n",
       "        num_rows: 87840\n",
       "    })\n",
       "    test: Dataset({\n",
       "        features: ['question', 'answers', 'ctxs'],\n",
       "        num_rows: 21961\n",
       "    })\n",
       "})"
      ]
     },
     "execution_count": 6,
     "metadata": {},
     "output_type": "execute_result"
    }
   ],
   "source": [
    "tqa_dataset"
   ]
  },
  {
   "cell_type": "code",
   "execution_count": 7,
   "id": "1427a0bc-2587-4c01-b6b7-a3da89035571",
   "metadata": {},
   "outputs": [
    {
     "data": {
      "text/plain": [
       "DatasetDict({\n",
       "    train: Dataset({\n",
       "        features: ['question', 'answers', 'ctxs'],\n",
       "        num_rows: 54516\n",
       "    })\n",
       "    test: Dataset({\n",
       "        features: ['question', 'answers', 'ctxs'],\n",
       "        num_rows: 13630\n",
       "    })\n",
       "})"
      ]
     },
     "execution_count": 7,
     "metadata": {},
     "output_type": "execute_result"
    }
   ],
   "source": [
    "wiki_dataset"
   ]
  },
  {
   "cell_type": "code",
   "execution_count": 8,
   "id": "4eafe019-037c-41af-ac70-1c0f83fb3244",
   "metadata": {},
   "outputs": [],
   "source": [
    "from transformers import AutoTokenizer\n",
    "\n",
    "model_checkpoint = \"answerdotai/ModernBERT-base\"\n",
    "tokenizer = AutoTokenizer.from_pretrained(model_checkpoint)"
   ]
  },
  {
   "cell_type": "code",
   "execution_count": 9,
   "id": "6e1f7f25-71cb-446c-8a35-0a18bcc124fc",
   "metadata": {},
   "outputs": [],
   "source": [
    "\n",
    "def preprocess_tqa_training_examples(examples):\n",
    "    true_samples = [ctx for ctx in examples[\"ctxs\"][0] if ctx[\"has_answer\"]][:limit_data_per_sample]\n",
    "    num_true = len(true_samples)\n",
    "    false_samples = [ctx for ctx in examples[\"ctxs\"][0] if not ctx[\"has_answer\"]][:num_true]\n",
    "    all_sample = true_samples + false_samples\n",
    "    inputs = tokenizer(\n",
    "        [examples[\"question\"][0]] * len(all_sample),\n",
    "        [text[\"text\"] for text in all_sample],\n",
    "        truncation=\"only_second\",\n",
    "        max_length=max_length,\n",
    "        stride=stride,\n",
    "        return_overflowing_tokens=True,\n",
    "        padding=\"max_length\",\n",
    "    )\n",
    "\n",
    "    sample_map = inputs.pop(\"overflow_to_sample_mapping\")\n",
    "    answer_occurrences = [text[\"answer_occurrences\"] for text in all_sample]\n",
    "    predict_label = [1] * len(true_samples) + [0] * len(false_samples)  \n",
    "\n",
    "    extended_predict_label = [predict_label[sample_map[i]] for i in range(len(inputs[\"input_ids\"]))]\n",
    "\n",
    "    inputs[\"labels\"] = extended_predict_label\n",
    "    return inputs"
   ]
  },
  {
   "cell_type": "code",
   "execution_count": 10,
   "id": "7ad1f467-a454-445d-a53e-a064f9da1b6f",
   "metadata": {},
   "outputs": [],
   "source": [
    "process_tqa_dataset = tqa_dataset.map(\n",
    "    preprocess_tqa_training_examples,\n",
    "    remove_columns=tqa_dataset[\"train\"].column_names,\n",
    "    batched=True,\n",
    "    batch_size = 1,\n",
    "    num_proc = 4\n",
    ")"
   ]
  },
  {
   "cell_type": "code",
   "execution_count": 11,
   "id": "9c99cac4-2dc5-4630-bb28-ee9e15279e62",
   "metadata": {},
   "outputs": [
    {
     "data": {
      "text/plain": [
       "DatasetDict({\n",
       "    train: Dataset({\n",
       "        features: ['input_ids', 'attention_mask', 'labels'],\n",
       "        num_rows: 878402\n",
       "    })\n",
       "    test: Dataset({\n",
       "        features: ['input_ids', 'attention_mask', 'labels'],\n",
       "        num_rows: 219612\n",
       "    })\n",
       "})"
      ]
     },
     "execution_count": 11,
     "metadata": {},
     "output_type": "execute_result"
    }
   ],
   "source": [
    "process_tqa_dataset"
   ]
  },
  {
   "cell_type": "code",
   "execution_count": 12,
   "id": "c553268f-46d8-4bd5-bf09-7bc17b193744",
   "metadata": {},
   "outputs": [],
   "source": [
    "\n",
    "def preprocess_wiki_training_examples(examples):\n",
    "    true_samples = [ctx for ctx in examples[\"ctxs\"][0] if ctx[\"gold_document\"]]\n",
    "    num_true = len(true_samples)\n",
    "    false_samples = [ctx for ctx in examples[\"ctxs\"][0] if not ctx[\"gold_document\"]][:num_true]\n",
    "    all_sample = true_samples + false_samples\n",
    "    inputs = tokenizer(\n",
    "        [examples[\"question\"][0]] * len(all_sample),\n",
    "        [text[\"text\"] for text in all_sample],\n",
    "        truncation=\"only_second\",\n",
    "        max_length=max_length,\n",
    "        stride=stride,\n",
    "        return_overflowing_tokens=True,\n",
    "        padding=\"max_length\",\n",
    "    )\n",
    "\n",
    "    sample_map = inputs.pop(\"overflow_to_sample_mapping\")\n",
    "    predict_label = [1] * len(true_samples) + [0] * len(false_samples)  \n",
    "\n",
    "    extended_predict_label = [predict_label[sample_map[i]] for i in range(len(inputs[\"input_ids\"]))]\n",
    "\n",
    "    inputs[\"labels\"] = extended_predict_label\n",
    "    return inputs"
   ]
  },
  {
   "cell_type": "code",
   "execution_count": 13,
   "id": "688ef07e-c88f-4517-a3a7-911c11f47978",
   "metadata": {},
   "outputs": [],
   "source": [
    "process_wiki_dataset = wiki_dataset.map(\n",
    "    preprocess_wiki_training_examples,\n",
    "    remove_columns=wiki_dataset[\"train\"].column_names,\n",
    "    batched=True,\n",
    "    batch_size = 1,\n",
    "    num_proc = 4\n",
    ")"
   ]
  },
  {
   "cell_type": "code",
   "execution_count": 14,
   "id": "761ab7b3-be93-4a8a-bf21-e9aa34f78c01",
   "metadata": {},
   "outputs": [
    {
     "data": {
      "text/plain": [
       "DatasetDict({\n",
       "    train: Dataset({\n",
       "        features: ['input_ids', 'attention_mask', 'labels'],\n",
       "        num_rows: 207717\n",
       "    })\n",
       "    test: Dataset({\n",
       "        features: ['input_ids', 'attention_mask', 'labels'],\n",
       "        num_rows: 51662\n",
       "    })\n",
       "})"
      ]
     },
     "execution_count": 14,
     "metadata": {},
     "output_type": "execute_result"
    }
   ],
   "source": [
    "process_wiki_dataset"
   ]
  },
  {
   "cell_type": "code",
   "execution_count": 15,
   "id": "aaf89c89-30d7-42e4-b81a-532241b2846a",
   "metadata": {},
   "outputs": [],
   "source": [
    "process_dataset = DatasetDict({\n",
    "    'train': concatenate_datasets([\n",
    "        process_tqa_dataset['train'],\n",
    "        process_wiki_dataset['train']\n",
    "    ]),\n",
    "    'validation': concatenate_datasets([\n",
    "        process_tqa_dataset['test'],\n",
    "        process_wiki_dataset['test']\n",
    "    ]),\n",
    "})"
   ]
  },
  {
   "cell_type": "code",
   "execution_count": 16,
   "id": "1c600ea4-2caa-426e-97d2-9066d4c75d51",
   "metadata": {},
   "outputs": [
    {
     "data": {
      "text/plain": [
       "DatasetDict({\n",
       "    train: Dataset({\n",
       "        features: ['input_ids', 'attention_mask', 'labels'],\n",
       "        num_rows: 1086119\n",
       "    })\n",
       "    validation: Dataset({\n",
       "        features: ['input_ids', 'attention_mask', 'labels'],\n",
       "        num_rows: 271274\n",
       "    })\n",
       "})"
      ]
     },
     "execution_count": 16,
     "metadata": {},
     "output_type": "execute_result"
    }
   ],
   "source": [
    "process_dataset"
   ]
  },
  {
   "cell_type": "code",
   "execution_count": 17,
   "id": "1597ba68-fd5d-484c-ab9c-db12828939d3",
   "metadata": {},
   "outputs": [
    {
     "name": "stderr",
     "output_type": "stream",
     "text": [
      "2025-04-16 18:41:54.784012: E external/local_xla/xla/stream_executor/cuda/cuda_fft.cc:477] Unable to register cuFFT factory: Attempting to register factory for plugin cuFFT when one has already been registered\n",
      "WARNING: All log messages before absl::InitializeLog() is called are written to STDERR\n",
      "E0000 00:00:1744828914.792040   60189 cuda_dnn.cc:8310] Unable to register cuDNN factory: Attempting to register factory for plugin cuDNN when one has already been registered\n",
      "E0000 00:00:1744828914.794456   60189 cuda_blas.cc:1418] Unable to register cuBLAS factory: Attempting to register factory for plugin cuBLAS when one has already been registered\n",
      "2025-04-16 18:41:54.804065: I tensorflow/core/platform/cpu_feature_guard.cc:210] This TensorFlow binary is optimized to use available CPU instructions in performance-critical operations.\n",
      "To enable the following instructions: AVX2 FMA, in other operations, rebuild TensorFlow with the appropriate compiler flags.\n"
     ]
    }
   ],
   "source": [
    "import evaluate\n",
    "import numpy as np\n",
    "import torch\n",
    "\n",
    "def compute_metrics(eval_preds):\n",
    "    \n",
    "    metric = evaluate.load(\"accuracy\")\n",
    "    logits, labels = eval_preds\n",
    "    logits = logits\n",
    "    labels = labels\n",
    "\n",
    "    # Apply sigmoid to get probabilities\n",
    "    probs = torch.sigmoid(torch.tensor(logits)).numpy()\n",
    "\n",
    "\n",
    "    # Convert probabilities to binary predictions\n",
    "    predictions = (probs > 0.5).astype(int)\n",
    "\n",
    "    return metric.compute(predictions=predictions, references=labels)"
   ]
  },
  {
   "cell_type": "code",
   "execution_count": 18,
   "id": "b4873ee3-0c00-4806-a789-ef2f378846fe",
   "metadata": {},
   "outputs": [],
   "source": [
    "from transformers import AutoModel , Trainer\n",
    "import torch.nn.functional as F\n",
    "import torch.nn as nn\n",
    "import torch\n",
    "\n",
    "class GELUActivation(nn.Module):\n",
    "    \"\"\"\n",
    "    Original Implementation of the GELU activation function in Google BERT repo when initially created. For\n",
    "    information: OpenAI GPT's GELU is slightly different (and gives slightly different results): 0.5 * x * (1 +\n",
    "    torch.tanh(math.sqrt(2 / math.pi) * (x + 0.044715 * torch.pow(x, 3)))) This is now written in C in nn.functional\n",
    "    Also see the Gaussian Error Linear Units paper: https://arxiv.org/abs/1606.08415\n",
    "    \"\"\"\n",
    "\n",
    "    def __init__(self, use_gelu_python: bool = False):\n",
    "        super().__init__()\n",
    "        if use_gelu_python:\n",
    "            self.act = self._gelu_python\n",
    "        else:\n",
    "            self.act = nn.functional.gelu\n",
    "\n",
    "    def _gelu_python(self, input):\n",
    "        return input * 0.5 * (1.0 + torch.erf(input / math.sqrt(2.0)))\n",
    "\n",
    "    def forward(self, input):\n",
    "        return self.act(input)\n",
    "    \n",
    "class ValidatorModel(nn.Module):\n",
    "    def __init__(self, checkpoint):\n",
    "        super(ValidatorModel, self).__init__()\n",
    "        self.encoder = AutoModel.from_pretrained(checkpoint)\n",
    "        config = self.encoder.config\n",
    "        self.classifier = nn.Linear(self.encoder.config.hidden_size, 1)\n",
    "        self.loss_fn = nn.BCELoss()  # Use BCELoss since we apply Sigmoid manually\n",
    "\n",
    "        self.dense = nn.Linear(config.hidden_size, config.hidden_size, config.classifier_bias)\n",
    "        self.act = GELUActivation()\n",
    "        self.norm = nn.LayerNorm(config.hidden_size, eps=config.norm_eps, bias=config.norm_bias)\n",
    "        self.drop = torch.nn.Dropout(config.classifier_dropout)\n",
    "\n",
    "        self.cls_loss_fn = nn.BCEWithLogitsLoss()\n",
    "        self.qa_loss_fn = nn.CrossEntropyLoss(ignore_index=-100)\n",
    "\n",
    "    def forward(self, input_ids, attention_mask, labels=None):\n",
    "        outputs = self.encoder(input_ids=input_ids, attention_mask=attention_mask)\n",
    "        last_hidden_state = outputs[0]\n",
    "    \n",
    "        pooling = (last_hidden_state * attention_mask.unsqueeze(-1)).sum(dim=1) / attention_mask.sum(\n",
    "            dim=1, keepdim=True\n",
    "        )\n",
    "\n",
    "        \n",
    "        pooled_output = self.norm(self.act(self.dense(pooling)))\n",
    "        pooled_output = self.drop(pooled_output)\n",
    "        logits = self.classifier(pooled_output)\n",
    "        cls_logits = logits.squeeze(-1)\n",
    "        \n",
    "        loss = None\n",
    "        if labels is not None:\n",
    "            cls_loss = self.cls_loss_fn(cls_logits, labels.float())\n",
    "            loss = cls_loss\n",
    "\n",
    "        return {\n",
    "            \"loss\": loss,\n",
    "            \"logits\": cls_logits,\n",
    "        }"
   ]
  },
  {
   "cell_type": "code",
   "execution_count": 19,
   "id": "7aadf047-57e8-46cc-b2c2-b698c1a7be5c",
   "metadata": {},
   "outputs": [
    {
     "name": "stderr",
     "output_type": "stream",
     "text": [
      "You are attempting to use Flash Attention 2.0 with a model not initialized on GPU. Make sure to move the model to GPU after initializing it on CPU with `model.to('cuda')`.\n"
     ]
    }
   ],
   "source": [
    "model = ValidatorModel(model_checkpoint)"
   ]
  },
  {
   "cell_type": "code",
   "execution_count": 20,
   "id": "9e307ce3-2dd3-42cb-b80d-fa95b46cb04f",
   "metadata": {},
   "outputs": [],
   "source": [
    "from transformers import TrainingArguments\n",
    "\n",
    "args = TrainingArguments(\n",
    "    \"modernbert-finetuned-triviaqa-wiki-noqa\",\n",
    "    eval_strategy=\"epoch\",\n",
    "    save_strategy=\"epoch\",\n",
    "    learning_rate=2e-5,\n",
    "    num_train_epochs=3,\n",
    "    weight_decay=0.01,\n",
    "    per_device_train_batch_size = 32,\n",
    "    per_device_eval_batch_size = 32,\n",
    "    bf16=True,\n",
    "    report_to=\"wandb\"\n",
    "    # push_to_hub=True,\n",
    ")"
   ]
  },
  {
   "cell_type": "code",
   "execution_count": 21,
   "id": "df796346-f231-42e5-b62b-8aa62e0ebc25",
   "metadata": {},
   "outputs": [
    {
     "name": "stderr",
     "output_type": "stream",
     "text": [
      "/tmp/ipykernel_60189/3466271698.py:1: FutureWarning: `tokenizer` is deprecated and will be removed in version 5.0.0 for `Trainer.__init__`. Use `processing_class` instead.\n",
      "  trainer = Trainer(\n"
     ]
    },
    {
     "name": "stdout",
     "output_type": "stream",
     "text": [
      "[2025-04-16 18:41:57,719] [INFO] [real_accelerator.py:222:get_accelerator] Setting ds_accelerator to cuda (auto detect)\n"
     ]
    },
    {
     "name": "stderr",
     "output_type": "stream",
     "text": [
      "/home/ryuinw123/miniconda3/envs/deep/compiler_compat/ld: cannot find -laio: No such file or directory\n",
      "collect2: error: ld returned 1 exit status\n",
      "/home/ryuinw123/miniconda3/envs/deep/compiler_compat/ld: warning: libstdc++.so.6, needed by /usr/local/cuda-11.8/lib64/libcufile.so, not found (try using -rpath or -rpath-link)\n",
      "/home/ryuinw123/miniconda3/envs/deep/compiler_compat/ld: warning: libm.so.6, needed by /usr/local/cuda-11.8/lib64/libcufile.so, not found (try using -rpath or -rpath-link)\n",
      "/home/ryuinw123/miniconda3/envs/deep/compiler_compat/ld: /usr/local/cuda-11.8/lib64/libcufile.so: undefined reference to `std::runtime_error::~runtime_error()@GLIBCXX_3.4'\n",
      "/home/ryuinw123/miniconda3/envs/deep/compiler_compat/ld: /usr/local/cuda-11.8/lib64/libcufile.so: undefined reference to `__gxx_personality_v0@CXXABI_1.3'\n",
      "/home/ryuinw123/miniconda3/envs/deep/compiler_compat/ld: /usr/local/cuda-11.8/lib64/libcufile.so: undefined reference to `std::ostream::tellp()@GLIBCXX_3.4'\n",
      "/home/ryuinw123/miniconda3/envs/deep/compiler_compat/ld: /usr/local/cuda-11.8/lib64/libcufile.so: undefined reference to `std::string::substr(unsigned long, unsigned long) const@GLIBCXX_3.4'\n",
      "/home/ryuinw123/miniconda3/envs/deep/compiler_compat/ld: /usr/local/cuda-11.8/lib64/libcufile.so: undefined reference to `std::string::_M_replace_aux(unsigned long, unsigned long, unsigned long, char)@GLIBCXX_3.4'\n",
      "/home/ryuinw123/miniconda3/envs/deep/compiler_compat/ld: /usr/local/cuda-11.8/lib64/libcufile.so: undefined reference to `typeinfo for bool@CXXABI_1.3'\n",
      "/home/ryuinw123/miniconda3/envs/deep/compiler_compat/ld: /usr/local/cuda-11.8/lib64/libcufile.so: undefined reference to `std::__throw_logic_error(char const*)@GLIBCXX_3.4'\n",
      "/home/ryuinw123/miniconda3/envs/deep/compiler_compat/ld: /usr/local/cuda-11.8/lib64/libcufile.so: undefined reference to `VTT for std::basic_ostringstream<char, std::char_traits<char>, std::allocator<char> >@GLIBCXX_3.4'\n",
      "/home/ryuinw123/miniconda3/envs/deep/compiler_compat/ld: /usr/local/cuda-11.8/lib64/libcufile.so: undefined reference to `std::locale::~locale()@GLIBCXX_3.4'\n",
      "/home/ryuinw123/miniconda3/envs/deep/compiler_compat/ld: /usr/local/cuda-11.8/lib64/libcufile.so: undefined reference to `__cxa_end_catch@CXXABI_1.3'\n",
      "/home/ryuinw123/miniconda3/envs/deep/compiler_compat/ld: /usr/local/cuda-11.8/lib64/libcufile.so: undefined reference to `VTT for std::basic_ofstream<char, std::char_traits<char> >@GLIBCXX_3.4'\n",
      "/home/ryuinw123/miniconda3/envs/deep/compiler_compat/ld: /usr/local/cuda-11.8/lib64/libcufile.so: undefined reference to `vtable for __cxxabiv1::__si_class_type_info@CXXABI_1.3'\n",
      "/home/ryuinw123/miniconda3/envs/deep/compiler_compat/ld: /usr/local/cuda-11.8/lib64/libcufile.so: undefined reference to `VTT for std::basic_stringstream<char, std::char_traits<char>, std::allocator<char> >@GLIBCXX_3.4'\n",
      "/home/ryuinw123/miniconda3/envs/deep/compiler_compat/ld: /usr/local/cuda-11.8/lib64/libcufile.so: undefined reference to `std::basic_stringbuf<char, std::char_traits<char>, std::allocator<char> >::_M_stringbuf_init(std::_Ios_Openmode)@GLIBCXX_3.4'\n",
      "/home/ryuinw123/miniconda3/envs/deep/compiler_compat/ld: /usr/local/cuda-11.8/lib64/libcufile.so: undefined reference to `operator new[](unsigned long)@GLIBCXX_3.4'\n",
      "/home/ryuinw123/miniconda3/envs/deep/compiler_compat/ld: /usr/local/cuda-11.8/lib64/libcufile.so: undefined reference to `std::string::_M_leak_hard()@GLIBCXX_3.4'\n",
      "/home/ryuinw123/miniconda3/envs/deep/compiler_compat/ld: /usr/local/cuda-11.8/lib64/libcufile.so: undefined reference to `vtable for std::basic_ifstream<char, std::char_traits<char> >@GLIBCXX_3.4'\n",
      "/home/ryuinw123/miniconda3/envs/deep/compiler_compat/ld: /usr/local/cuda-11.8/lib64/libcufile.so: undefined reference to `std::string::append(char const*, unsigned long)@GLIBCXX_3.4'\n",
      "/home/ryuinw123/miniconda3/envs/deep/compiler_compat/ld: /usr/local/cuda-11.8/lib64/libcufile.so: undefined reference to `std::basic_string<char, std::char_traits<char>, std::allocator<char> >::basic_string(std::string const&)@GLIBCXX_3.4'\n",
      "/home/ryuinw123/miniconda3/envs/deep/compiler_compat/ld: /usr/local/cuda-11.8/lib64/libcufile.so: undefined reference to `typeinfo for unsigned short@CXXABI_1.3'\n",
      "/home/ryuinw123/miniconda3/envs/deep/compiler_compat/ld: /usr/local/cuda-11.8/lib64/libcufile.so: undefined reference to `std::string::resize(unsigned long, char)@GLIBCXX_3.4'\n",
      "/home/ryuinw123/miniconda3/envs/deep/compiler_compat/ld: /usr/local/cuda-11.8/lib64/libcufile.so: undefined reference to `std::basic_stringbuf<char, std::char_traits<char>, std::allocator<char> >::str(std::string const&)@GLIBCXX_3.4'\n",
      "/home/ryuinw123/miniconda3/envs/deep/compiler_compat/ld: /usr/local/cuda-11.8/lib64/libcufile.so: undefined reference to `typeinfo for char const*@CXXABI_1.3'\n",
      "/home/ryuinw123/miniconda3/envs/deep/compiler_compat/ld: /usr/local/cuda-11.8/lib64/libcufile.so: undefined reference to `std::ctype<char>::_M_widen_init() const@GLIBCXX_3.4.11'\n",
      "/home/ryuinw123/miniconda3/envs/deep/compiler_compat/ld: /usr/local/cuda-11.8/lib64/libcufile.so: undefined reference to `std::__throw_invalid_argument(char const*)@GLIBCXX_3.4'\n",
      "/home/ryuinw123/miniconda3/envs/deep/compiler_compat/ld: /usr/local/cuda-11.8/lib64/libcufile.so: undefined reference to `std::_Rb_tree_decrement(std::_Rb_tree_node_base const*)@GLIBCXX_3.4'\n",
      "/home/ryuinw123/miniconda3/envs/deep/compiler_compat/ld: /usr/local/cuda-11.8/lib64/libcufile.so: undefined reference to `__cxa_free_exception@CXXABI_1.3'\n",
      "/home/ryuinw123/miniconda3/envs/deep/compiler_compat/ld: /usr/local/cuda-11.8/lib64/libcufile.so: undefined reference to `std::ios_base::Init::~Init()@GLIBCXX_3.4'\n",
      "/home/ryuinw123/miniconda3/envs/deep/compiler_compat/ld: /usr/local/cuda-11.8/lib64/libcufile.so: undefined reference to `std::basic_string<char, std::char_traits<char>, std::allocator<char> >::~basic_string()@GLIBCXX_3.4'\n",
      "/home/ryuinw123/miniconda3/envs/deep/compiler_compat/ld: /usr/local/cuda-11.8/lib64/libcufile.so: undefined reference to `__cxa_pure_virtual@CXXABI_1.3'\n",
      "/home/ryuinw123/miniconda3/envs/deep/compiler_compat/ld: /usr/local/cuda-11.8/lib64/libcufile.so: undefined reference to `std::ostream::flush()@GLIBCXX_3.4'\n",
      "/home/ryuinw123/miniconda3/envs/deep/compiler_compat/ld: /usr/local/cuda-11.8/lib64/libcufile.so: undefined reference to `vtable for __cxxabiv1::__class_type_info@CXXABI_1.3'\n",
      "/home/ryuinw123/miniconda3/envs/deep/compiler_compat/ld: /usr/local/cuda-11.8/lib64/libcufile.so: undefined reference to `__cxa_rethrow@CXXABI_1.3'\n",
      "/home/ryuinw123/miniconda3/envs/deep/compiler_compat/ld: /usr/local/cuda-11.8/lib64/libcufile.so: undefined reference to `std::string::_Rep::_M_dispose(std::allocator<char> const&)@GLIBCXX_3.4'\n",
      "/home/ryuinw123/miniconda3/envs/deep/compiler_compat/ld: /usr/local/cuda-11.8/lib64/libcufile.so: undefined reference to `vtable for std::basic_stringbuf<char, std::char_traits<char>, std::allocator<char> >@GLIBCXX_3.4'\n",
      "/home/ryuinw123/miniconda3/envs/deep/compiler_compat/ld: /usr/local/cuda-11.8/lib64/libcufile.so: undefined reference to `std::basic_fstream<char, std::char_traits<char> >::~basic_fstream()@GLIBCXX_3.4'\n",
      "/home/ryuinw123/miniconda3/envs/deep/compiler_compat/ld: /usr/local/cuda-11.8/lib64/libcufile.so: undefined reference to `std::string::compare(char const*) const@GLIBCXX_3.4'\n",
      "/home/ryuinw123/miniconda3/envs/deep/compiler_compat/ld: /usr/local/cuda-11.8/lib64/libcufile.so: undefined reference to `std::locale::locale()@GLIBCXX_3.4'\n",
      "/home/ryuinw123/miniconda3/envs/deep/compiler_compat/ld: /usr/local/cuda-11.8/lib64/libcufile.so: undefined reference to `std::chrono::_V2::system_clock::now()@GLIBCXX_3.4.19'\n",
      "/home/ryuinw123/miniconda3/envs/deep/compiler_compat/ld: /usr/local/cuda-11.8/lib64/libcufile.so: undefined reference to `VTT for std::basic_ifstream<char, std::char_traits<char> >@GLIBCXX_3.4'\n",
      "/home/ryuinw123/miniconda3/envs/deep/compiler_compat/ld: /usr/local/cuda-11.8/lib64/libcufile.so: undefined reference to `std::_Hash_bytes(void const*, unsigned long, unsigned long)@CXXABI_1.3.5'\n",
      "/home/ryuinw123/miniconda3/envs/deep/compiler_compat/ld: /usr/local/cuda-11.8/lib64/libcufile.so: undefined reference to `std::basic_ostream<char, std::char_traits<char> >& std::endl<char, std::char_traits<char> >(std::basic_ostream<char, std::char_traits<char> >&)@GLIBCXX_3.4'\n",
      "/home/ryuinw123/miniconda3/envs/deep/compiler_compat/ld: /usr/local/cuda-11.8/lib64/libcufile.so: undefined reference to `std::ostream& std::ostream::_M_insert<long long>(long long)@GLIBCXX_3.4.9'\n",
      "/home/ryuinw123/miniconda3/envs/deep/compiler_compat/ld: /usr/local/cuda-11.8/lib64/libcufile.so: undefined reference to `typeinfo for char*@CXXABI_1.3'\n",
      "/home/ryuinw123/miniconda3/envs/deep/compiler_compat/ld: /usr/local/cuda-11.8/lib64/libcufile.so: undefined reference to `std::__detail::_Prime_rehash_policy::_M_need_rehash(unsigned long, unsigned long, unsigned long) const@GLIBCXX_3.4.18'\n",
      "/home/ryuinw123/miniconda3/envs/deep/compiler_compat/ld: /usr/local/cuda-11.8/lib64/libcufile.so: undefined reference to `std::ostream& std::ostream::_M_insert<unsigned long>(unsigned long)@GLIBCXX_3.4.9'\n",
      "/home/ryuinw123/miniconda3/envs/deep/compiler_compat/ld: /usr/local/cuda-11.8/lib64/libcufile.so: undefined reference to `std::_Rb_tree_increment(std::_Rb_tree_node_base const*)@GLIBCXX_3.4'\n",
      "/home/ryuinw123/miniconda3/envs/deep/compiler_compat/ld: /usr/local/cuda-11.8/lib64/libcufile.so: undefined reference to `std::ios_base::~ios_base()@GLIBCXX_3.4'\n",
      "/home/ryuinw123/miniconda3/envs/deep/compiler_compat/ld: /usr/local/cuda-11.8/lib64/libcufile.so: undefined reference to `std::__basic_file<char>::~__basic_file()@GLIBCXX_3.4'\n",
      "/home/ryuinw123/miniconda3/envs/deep/compiler_compat/ld: /usr/local/cuda-11.8/lib64/libcufile.so: undefined reference to `__cxa_guard_acquire@CXXABI_1.3'\n",
      "/home/ryuinw123/miniconda3/envs/deep/compiler_compat/ld: /usr/local/cuda-11.8/lib64/libcufile.so: undefined reference to `std::ostream& std::ostream::_M_insert<bool>(bool)@GLIBCXX_3.4.9'\n",
      "/home/ryuinw123/miniconda3/envs/deep/compiler_compat/ld: /usr/local/cuda-11.8/lib64/libcufile.so: undefined reference to `VTT for std::basic_fstream<char, std::char_traits<char> >@GLIBCXX_3.4'\n",
      "/home/ryuinw123/miniconda3/envs/deep/compiler_compat/ld: /usr/local/cuda-11.8/lib64/libcufile.so: undefined reference to `vtable for std::basic_ios<char, std::char_traits<char> >@GLIBCXX_3.4'\n",
      "/home/ryuinw123/miniconda3/envs/deep/compiler_compat/ld: /usr/local/cuda-11.8/lib64/libcufile.so: undefined reference to `vtable for std::basic_filebuf<char, std::char_traits<char> >@GLIBCXX_3.4'\n",
      "/home/ryuinw123/miniconda3/envs/deep/compiler_compat/ld: /usr/local/cuda-11.8/lib64/libcufile.so: undefined reference to `operator delete[](void*)@GLIBCXX_3.4'\n",
      "/home/ryuinw123/miniconda3/envs/deep/compiler_compat/ld: /usr/local/cuda-11.8/lib64/libcufile.so: undefined reference to `vtable for std::basic_stringstream<char, std::char_traits<char>, std::allocator<char> >@GLIBCXX_3.4'\n",
      "/home/ryuinw123/miniconda3/envs/deep/compiler_compat/ld: /usr/local/cuda-11.8/lib64/libcufile.so: undefined reference to `std::string::assign(char const*)@GLIBCXX_3.4'\n",
      "/home/ryuinw123/miniconda3/envs/deep/compiler_compat/ld: /usr/local/cuda-11.8/lib64/libcufile.so: undefined reference to `std::basic_string<char, std::char_traits<char>, std::allocator<char> >::basic_string(unsigned long, char, std::allocator<char> const&)@GLIBCXX_3.4'\n",
      "/home/ryuinw123/miniconda3/envs/deep/compiler_compat/ld: /usr/local/cuda-11.8/lib64/libcufile.so: undefined reference to `std::__detail::_List_node_base::_M_transfer(std::__detail::_List_node_base*, std::__detail::_List_node_base*)@GLIBCXX_3.4.15'\n",
      "/home/ryuinw123/miniconda3/envs/deep/compiler_compat/ld: /usr/local/cuda-11.8/lib64/libcufile.so: undefined reference to `typeinfo for std::exception@GLIBCXX_3.4'\n",
      "/home/ryuinw123/miniconda3/envs/deep/compiler_compat/ld: /usr/local/cuda-11.8/lib64/libcufile.so: undefined reference to `std::istream& std::istream::_M_extract<double>(double&)@GLIBCXX_3.4.9'\n",
      "/home/ryuinw123/miniconda3/envs/deep/compiler_compat/ld: /usr/local/cuda-11.8/lib64/libcufile.so: undefined reference to `std::basic_filebuf<char, std::char_traits<char> >::close()@GLIBCXX_3.4'\n",
      "/home/ryuinw123/miniconda3/envs/deep/compiler_compat/ld: /usr/local/cuda-11.8/lib64/libcufile.so: undefined reference to `vtable for std::basic_fstream<char, std::char_traits<char> >@GLIBCXX_3.4'\n",
      "/home/ryuinw123/miniconda3/envs/deep/compiler_compat/ld: /usr/local/cuda-11.8/lib64/libcufile.so: undefined reference to `std::basic_ifstream<char, std::char_traits<char> >::basic_ifstream(char const*, std::_Ios_Openmode)@GLIBCXX_3.4'\n",
      "/home/ryuinw123/miniconda3/envs/deep/compiler_compat/ld: /usr/local/cuda-11.8/lib64/libcufile.so: undefined reference to `std::string::append(std::string const&)@GLIBCXX_3.4'\n",
      "/home/ryuinw123/miniconda3/envs/deep/compiler_compat/ld: /usr/local/cuda-11.8/lib64/libcufile.so: undefined reference to `operator new(unsigned long)@GLIBCXX_3.4'\n",
      "/home/ryuinw123/miniconda3/envs/deep/compiler_compat/ld: /usr/local/cuda-11.8/lib64/libcufile.so: undefined reference to `std::basic_stringstream<char, std::char_traits<char>, std::allocator<char> >::basic_stringstream(std::_Ios_Openmode)@GLIBCXX_3.4'\n",
      "/home/ryuinw123/miniconda3/envs/deep/compiler_compat/ld: /usr/local/cuda-11.8/lib64/libcufile.so: undefined reference to `typeinfo for unsigned int@CXXABI_1.3'\n",
      "/home/ryuinw123/miniconda3/envs/deep/compiler_compat/ld: /usr/local/cuda-11.8/lib64/libcufile.so: undefined reference to `std::string::append(char const*)@GLIBCXX_3.4'\n",
      "/home/ryuinw123/miniconda3/envs/deep/compiler_compat/ld: /usr/local/cuda-11.8/lib64/libcufile.so: undefined reference to `std::string::find(char, unsigned long) const@GLIBCXX_3.4'\n",
      "/home/ryuinw123/miniconda3/envs/deep/compiler_compat/ld: /usr/local/cuda-11.8/lib64/libcufile.so: undefined reference to `std::ostream::put(char)@GLIBCXX_3.4'\n",
      "/home/ryuinw123/miniconda3/envs/deep/compiler_compat/ld: /usr/local/cuda-11.8/lib64/libcufile.so: undefined reference to `typeinfo for int@CXXABI_1.3'\n",
      "/home/ryuinw123/miniconda3/envs/deep/compiler_compat/ld: /usr/local/cuda-11.8/lib64/libcufile.so: undefined reference to `std::__throw_bad_alloc()@GLIBCXX_3.4'\n",
      "/home/ryuinw123/miniconda3/envs/deep/compiler_compat/ld: /usr/local/cuda-11.8/lib64/libcufile.so: undefined reference to `__cxa_thread_atexit@CXXABI_1.3.7'\n",
      "/home/ryuinw123/miniconda3/envs/deep/compiler_compat/ld: /usr/local/cuda-11.8/lib64/libcufile.so: undefined reference to `std::_Rb_tree_increment(std::_Rb_tree_node_base*)@GLIBCXX_3.4'\n",
      "/home/ryuinw123/miniconda3/envs/deep/compiler_compat/ld: /usr/local/cuda-11.8/lib64/libcufile.so: undefined reference to `std::basic_ifstream<char, std::char_traits<char> >::~basic_ifstream()@GLIBCXX_3.4'\n",
      "/home/ryuinw123/miniconda3/envs/deep/compiler_compat/ld: /usr/local/cuda-11.8/lib64/libcufile.so: undefined reference to `std::ios_base::Init::Init()@GLIBCXX_3.4'\n",
      "/home/ryuinw123/miniconda3/envs/deep/compiler_compat/ld: /usr/local/cuda-11.8/lib64/libcufile.so: undefined reference to `std::__detail::_List_node_base::swap(std::__detail::_List_node_base&, std::__detail::_List_node_base&)@GLIBCXX_3.4.15'\n",
      "/home/ryuinw123/miniconda3/envs/deep/compiler_compat/ld: /usr/local/cuda-11.8/lib64/libcufile.so: undefined reference to `std::istream::getline(char*, long)@GLIBCXX_3.4'\n",
      "/home/ryuinw123/miniconda3/envs/deep/compiler_compat/ld: /usr/local/cuda-11.8/lib64/libcufile.so: undefined reference to `std::basic_filebuf<char, std::char_traits<char> >::basic_filebuf()@GLIBCXX_3.4'\n",
      "/home/ryuinw123/miniconda3/envs/deep/compiler_compat/ld: /usr/local/cuda-11.8/lib64/libcufile.so: undefined reference to `VTT for std::basic_istringstream<char, std::char_traits<char>, std::allocator<char> >@GLIBCXX_3.4'\n",
      "/home/ryuinw123/miniconda3/envs/deep/compiler_compat/ld: /usr/local/cuda-11.8/lib64/libcufile.so: undefined reference to `std::cerr@GLIBCXX_3.4'\n",
      "/home/ryuinw123/miniconda3/envs/deep/compiler_compat/ld: /usr/local/cuda-11.8/lib64/libcufile.so: undefined reference to `std::string::find(char const*, unsigned long, unsigned long) const@GLIBCXX_3.4'\n",
      "/home/ryuinw123/miniconda3/envs/deep/compiler_compat/ld: /usr/local/cuda-11.8/lib64/libcufile.so: undefined reference to `vtable for std::basic_istringstream<char, std::char_traits<char>, std::allocator<char> >@GLIBCXX_3.4'\n",
      "/home/ryuinw123/miniconda3/envs/deep/compiler_compat/ld: /usr/local/cuda-11.8/lib64/libcufile.so: undefined reference to `std::basic_stringbuf<char, std::char_traits<char>, std::allocator<char> >::str() const@GLIBCXX_3.4'\n",
      "/home/ryuinw123/miniconda3/envs/deep/compiler_compat/ld: /usr/local/cuda-11.8/lib64/libcufile.so: undefined reference to `typeinfo for void*@CXXABI_1.3'\n",
      "/home/ryuinw123/miniconda3/envs/deep/compiler_compat/ld: /usr/local/cuda-11.8/lib64/libcufile.so: undefined reference to `std::string::assign(std::string const&)@GLIBCXX_3.4'\n",
      "/home/ryuinw123/miniconda3/envs/deep/compiler_compat/ld: /usr/local/cuda-11.8/lib64/libcufile.so: undefined reference to `std::basic_string<char, std::char_traits<char>, std::allocator<char> >::basic_string(char const*, std::allocator<char> const&)@GLIBCXX_3.4'\n",
      "/home/ryuinw123/miniconda3/envs/deep/compiler_compat/ld: /usr/local/cuda-11.8/lib64/libcufile.so: undefined reference to `std::basic_ostringstream<char, std::char_traits<char>, std::allocator<char> >::~basic_ostringstream()@GLIBCXX_3.4'\n",
      "/home/ryuinw123/miniconda3/envs/deep/compiler_compat/ld: /usr/local/cuda-11.8/lib64/libcufile.so: undefined reference to `std::_Rb_tree_rebalance_for_erase(std::_Rb_tree_node_base*, std::_Rb_tree_node_base&)@GLIBCXX_3.4'\n",
      "/home/ryuinw123/miniconda3/envs/deep/compiler_compat/ld: /usr/local/cuda-11.8/lib64/libcufile.so: undefined reference to `typeinfo for unsigned long@CXXABI_1.3'\n",
      "/home/ryuinw123/miniconda3/envs/deep/compiler_compat/ld: /usr/local/cuda-11.8/lib64/libcufile.so: undefined reference to `std::__detail::_List_node_base::_M_hook(std::__detail::_List_node_base*)@GLIBCXX_3.4.15'\n",
      "/home/ryuinw123/miniconda3/envs/deep/compiler_compat/ld: /usr/local/cuda-11.8/lib64/libcufile.so: undefined reference to `std::__detail::_List_node_base::_M_unhook()@GLIBCXX_3.4.15'\n",
      "/home/ryuinw123/miniconda3/envs/deep/compiler_compat/ld: /usr/local/cuda-11.8/lib64/libcufile.so: undefined reference to `std::basic_istream<char, std::char_traits<char> >& std::getline<char, std::char_traits<char>, std::allocator<char> >(std::basic_istream<char, std::char_traits<char> >&, std::basic_string<char, std::char_traits<char>, std::allocator<char> >&)@GLIBCXX_3.4'\n",
      "/home/ryuinw123/miniconda3/envs/deep/compiler_compat/ld: /usr/local/cuda-11.8/lib64/libcufile.so: undefined reference to `std::basic_stringbuf<char, std::char_traits<char>, std::allocator<char> >::_M_sync(char*, unsigned long, unsigned long)@GLIBCXX_3.4'\n",
      "/home/ryuinw123/miniconda3/envs/deep/compiler_compat/ld: /usr/local/cuda-11.8/lib64/libcufile.so: undefined reference to `std::basic_iostream<char, std::char_traits<char> >::~basic_iostream()@GLIBCXX_3.4'\n",
      "/home/ryuinw123/miniconda3/envs/deep/compiler_compat/ld: /usr/local/cuda-11.8/lib64/libcufile.so: undefined reference to `log2f@GLIBC_2.2.5'\n",
      "/home/ryuinw123/miniconda3/envs/deep/compiler_compat/ld: /usr/local/cuda-11.8/lib64/libcufile.so: undefined reference to `std::ostream::operator<<(std::basic_streambuf<char, std::char_traits<char> >*)@GLIBCXX_3.4'\n",
      "/home/ryuinw123/miniconda3/envs/deep/compiler_compat/ld: /usr/local/cuda-11.8/lib64/libcufile.so: undefined reference to `std::exception::~exception()@GLIBCXX_3.4'\n",
      "/home/ryuinw123/miniconda3/envs/deep/compiler_compat/ld: /usr/local/cuda-11.8/lib64/libcufile.so: undefined reference to `std::string::_Rep::_S_create(unsigned long, unsigned long, std::allocator<char> const&)@GLIBCXX_3.4'\n",
      "/home/ryuinw123/miniconda3/envs/deep/compiler_compat/ld: /usr/local/cuda-11.8/lib64/libcufile.so: undefined reference to `std::__basic_file<char>::is_open() const@GLIBCXX_3.4'\n",
      "/home/ryuinw123/miniconda3/envs/deep/compiler_compat/ld: /usr/local/cuda-11.8/lib64/libcufile.so: undefined reference to `std::string::_M_mutate(unsigned long, unsigned long, unsigned long)@GLIBCXX_3.4'\n",
      "/home/ryuinw123/miniconda3/envs/deep/compiler_compat/ld: /usr/local/cuda-11.8/lib64/libcufile.so: undefined reference to `std::__detail::_Prime_rehash_policy::_M_next_bkt(unsigned long) const@GLIBCXX_3.4.18'\n",
      "/home/ryuinw123/miniconda3/envs/deep/compiler_compat/ld: /usr/local/cuda-11.8/lib64/libcufile.so: undefined reference to `std::basic_istringstream<char, std::char_traits<char>, std::allocator<char> >::~basic_istringstream()@GLIBCXX_3.4'\n",
      "/home/ryuinw123/miniconda3/envs/deep/compiler_compat/ld: /usr/local/cuda-11.8/lib64/libcufile.so: undefined reference to `std::basic_ostringstream<char, std::char_traits<char>, std::allocator<char> >::basic_ostringstream(std::_Ios_Openmode)@GLIBCXX_3.4'\n",
      "/home/ryuinw123/miniconda3/envs/deep/compiler_compat/ld: /usr/local/cuda-11.8/lib64/libcufile.so: undefined reference to `std::string::swap(std::string&)@GLIBCXX_3.4'\n",
      "/home/ryuinw123/miniconda3/envs/deep/compiler_compat/ld: /usr/local/cuda-11.8/lib64/libcufile.so: undefined reference to `vtable for std::basic_ostringstream<char, std::char_traits<char>, std::allocator<char> >@GLIBCXX_3.4'\n",
      "/home/ryuinw123/miniconda3/envs/deep/compiler_compat/ld: /usr/local/cuda-11.8/lib64/libcufile.so: undefined reference to `std::basic_ios<char, std::char_traits<char> >::init(std::basic_streambuf<char, std::char_traits<char> >*)@GLIBCXX_3.4'\n",
      "/home/ryuinw123/miniconda3/envs/deep/compiler_compat/ld: /usr/local/cuda-11.8/lib64/libcufile.so: undefined reference to `std::__throw_bad_cast()@GLIBCXX_3.4'\n",
      "/home/ryuinw123/miniconda3/envs/deep/compiler_compat/ld: /usr/local/cuda-11.8/lib64/libcufile.so: undefined reference to `std::basic_ios<char, std::char_traits<char> >::clear(std::_Ios_Iostate)@GLIBCXX_3.4'\n",
      "/home/ryuinw123/miniconda3/envs/deep/compiler_compat/ld: /usr/local/cuda-11.8/lib64/libcufile.so: undefined reference to `operator delete(void*)@GLIBCXX_3.4'\n",
      "/home/ryuinw123/miniconda3/envs/deep/compiler_compat/ld: /usr/local/cuda-11.8/lib64/libcufile.so: undefined reference to `std::ostream::operator<<(int)@GLIBCXX_3.4'\n",
      "/home/ryuinw123/miniconda3/envs/deep/compiler_compat/ld: /usr/local/cuda-11.8/lib64/libcufile.so: undefined reference to `std::string::_Rep::_S_empty_rep_storage@GLIBCXX_3.4'\n",
      "/home/ryuinw123/miniconda3/envs/deep/compiler_compat/ld: /usr/local/cuda-11.8/lib64/libcufile.so: undefined reference to `std::string::_Rep::_M_destroy(std::allocator<char> const&)@GLIBCXX_3.4'\n",
      "/home/ryuinw123/miniconda3/envs/deep/compiler_compat/ld: /usr/local/cuda-11.8/lib64/libcufile.so: undefined reference to `vtable for std::basic_ofstream<char, std::char_traits<char> >@GLIBCXX_3.4'\n",
      "/home/ryuinw123/miniconda3/envs/deep/compiler_compat/ld: /usr/local/cuda-11.8/lib64/libcufile.so: undefined reference to `std::_Rb_tree_insert_and_rebalance(bool, std::_Rb_tree_node_base*, std::_Rb_tree_node_base*, std::_Rb_tree_node_base&)@GLIBCXX_3.4'\n",
      "/home/ryuinw123/miniconda3/envs/deep/compiler_compat/ld: /usr/local/cuda-11.8/lib64/libcufile.so: undefined reference to `std::basic_stringstream<char, std::char_traits<char>, std::allocator<char> >::~basic_stringstream()@GLIBCXX_3.4'\n",
      "/home/ryuinw123/miniconda3/envs/deep/compiler_compat/ld: /usr/local/cuda-11.8/lib64/libcufile.so: undefined reference to `std::string::end()@GLIBCXX_3.4'\n",
      "/home/ryuinw123/miniconda3/envs/deep/compiler_compat/ld: /usr/local/cuda-11.8/lib64/libcufile.so: undefined reference to `std::ostream& std::ostream::_M_insert<long>(long)@GLIBCXX_3.4.9'\n",
      "/home/ryuinw123/miniconda3/envs/deep/compiler_compat/ld: /usr/local/cuda-11.8/lib64/libcufile.so: undefined reference to `std::istream::get()@GLIBCXX_3.4'\n",
      "/home/ryuinw123/miniconda3/envs/deep/compiler_compat/ld: /usr/local/cuda-11.8/lib64/libcufile.so: undefined reference to `typeinfo for unsigned long long@CXXABI_1.3'\n",
      "/home/ryuinw123/miniconda3/envs/deep/compiler_compat/ld: /usr/local/cuda-11.8/lib64/libcufile.so: undefined reference to `std::basic_ostream<char, std::char_traits<char> >& std::operator<< <std::char_traits<char> >(std::basic_ostream<char, std::char_traits<char> >&, char const*)@GLIBCXX_3.4'\n",
      "/home/ryuinw123/miniconda3/envs/deep/compiler_compat/ld: /usr/local/cuda-11.8/lib64/libcufile.so: undefined reference to `std::basic_ostream<char, std::char_traits<char> >& std::__ostream_insert<char, std::char_traits<char> >(std::basic_ostream<char, std::char_traits<char> >&, char const*, long)@GLIBCXX_3.4.9'\n",
      "/home/ryuinw123/miniconda3/envs/deep/compiler_compat/ld: /usr/local/cuda-11.8/lib64/libcufile.so: undefined reference to `std::basic_ostream<char, std::char_traits<char> >& std::flush<char, std::char_traits<char> >(std::basic_ostream<char, std::char_traits<char> >&)@GLIBCXX_3.4'\n",
      "/home/ryuinw123/miniconda3/envs/deep/compiler_compat/ld: /usr/local/cuda-11.8/lib64/libcufile.so: undefined reference to `std::cout@GLIBCXX_3.4'\n",
      "/home/ryuinw123/miniconda3/envs/deep/compiler_compat/ld: /usr/local/cuda-11.8/lib64/libcufile.so: undefined reference to `std::ostream& std::ostream::_M_insert<unsigned long long>(unsigned long long)@GLIBCXX_3.4.9'\n",
      "/home/ryuinw123/miniconda3/envs/deep/compiler_compat/ld: /usr/local/cuda-11.8/lib64/libcufile.so: undefined reference to `std::string::insert(unsigned long, char const*)@GLIBCXX_3.4'\n",
      "/home/ryuinw123/miniconda3/envs/deep/compiler_compat/ld: /usr/local/cuda-11.8/lib64/libcufile.so: undefined reference to `std::basic_stringstream<char, std::char_traits<char>, std::allocator<char> >::basic_stringstream(std::string const&, std::_Ios_Openmode)@GLIBCXX_3.4'\n",
      "/home/ryuinw123/miniconda3/envs/deep/compiler_compat/ld: /usr/local/cuda-11.8/lib64/libcufile.so: undefined reference to `std::runtime_error::runtime_error(std::string const&)@GLIBCXX_3.4'\n",
      "/home/ryuinw123/miniconda3/envs/deep/compiler_compat/ld: /usr/local/cuda-11.8/lib64/libcufile.so: undefined reference to `std::ostream& std::ostream::_M_insert<void const*>(void const*)@GLIBCXX_3.4.9'\n",
      "/home/ryuinw123/miniconda3/envs/deep/compiler_compat/ld: /usr/local/cuda-11.8/lib64/libcufile.so: undefined reference to `vtable for std::basic_streambuf<char, std::char_traits<char> >@GLIBCXX_3.4'\n",
      "/home/ryuinw123/miniconda3/envs/deep/compiler_compat/ld: /usr/local/cuda-11.8/lib64/libcufile.so: undefined reference to `__cxa_allocate_exception@CXXABI_1.3'\n",
      "/home/ryuinw123/miniconda3/envs/deep/compiler_compat/ld: /usr/local/cuda-11.8/lib64/libcufile.so: undefined reference to `typeinfo for void const*@CXXABI_1.3'\n",
      "/home/ryuinw123/miniconda3/envs/deep/compiler_compat/ld: /usr/local/cuda-11.8/lib64/libcufile.so: undefined reference to `std::string::reserve(unsigned long)@GLIBCXX_3.4'\n",
      "/home/ryuinw123/miniconda3/envs/deep/compiler_compat/ld: /usr/local/cuda-11.8/lib64/libcufile.so: undefined reference to `__cxa_begin_catch@CXXABI_1.3'\n",
      "/home/ryuinw123/miniconda3/envs/deep/compiler_compat/ld: /usr/local/cuda-11.8/lib64/libcufile.so: undefined reference to `typeinfo for long@CXXABI_1.3'\n",
      "/home/ryuinw123/miniconda3/envs/deep/compiler_compat/ld: /usr/local/cuda-11.8/lib64/libcufile.so: undefined reference to `std::string::find(char const*, unsigned long) const@GLIBCXX_3.4'\n",
      "/home/ryuinw123/miniconda3/envs/deep/compiler_compat/ld: /usr/local/cuda-11.8/lib64/libcufile.so: undefined reference to `std::basic_filebuf<char, std::char_traits<char> >::open(char const*, std::_Ios_Openmode)@GLIBCXX_3.4'\n",
      "/home/ryuinw123/miniconda3/envs/deep/compiler_compat/ld: /usr/local/cuda-11.8/lib64/libcufile.so: undefined reference to `std::string::compare(std::string const&) const@GLIBCXX_3.4'\n",
      "/home/ryuinw123/miniconda3/envs/deep/compiler_compat/ld: /usr/local/cuda-11.8/lib64/libcufile.so: undefined reference to `std::istream::getline(char*, long, char)@GLIBCXX_3.4'\n",
      "/home/ryuinw123/miniconda3/envs/deep/compiler_compat/ld: /usr/local/cuda-11.8/lib64/libcufile.so: undefined reference to `std::basic_istream<char, std::char_traits<char> >& std::getline<char, std::char_traits<char>, std::allocator<char> >(std::basic_istream<char, std::char_traits<char> >&, std::basic_string<char, std::char_traits<char>, std::allocator<char> >&, char)@GLIBCXX_3.4'\n",
      "/home/ryuinw123/miniconda3/envs/deep/compiler_compat/ld: /usr/local/cuda-11.8/lib64/libcufile.so: undefined reference to `std::string::insert(unsigned long, char const*, unsigned long)@GLIBCXX_3.4'\n",
      "/home/ryuinw123/miniconda3/envs/deep/compiler_compat/ld: /usr/local/cuda-11.8/lib64/libcufile.so: undefined reference to `std::string::assign(char const*, unsigned long)@GLIBCXX_3.4'\n",
      "/home/ryuinw123/miniconda3/envs/deep/compiler_compat/ld: /usr/local/cuda-11.8/lib64/libcufile.so: undefined reference to `typeinfo for unsigned char@CXXABI_1.3'\n",
      "/home/ryuinw123/miniconda3/envs/deep/compiler_compat/ld: /usr/local/cuda-11.8/lib64/libcufile.so: undefined reference to `std::ios_base::ios_base()@GLIBCXX_3.4'\n",
      "/home/ryuinw123/miniconda3/envs/deep/compiler_compat/ld: /usr/local/cuda-11.8/lib64/libcufile.so: undefined reference to `std::__throw_out_of_range(char const*)@GLIBCXX_3.4'\n",
      "/home/ryuinw123/miniconda3/envs/deep/compiler_compat/ld: /usr/local/cuda-11.8/lib64/libcufile.so: undefined reference to `std::__throw_length_error(char const*)@GLIBCXX_3.4'\n",
      "/home/ryuinw123/miniconda3/envs/deep/compiler_compat/ld: /usr/local/cuda-11.8/lib64/libcufile.so: undefined reference to `std::__throw_system_error(int)@GLIBCXX_3.4.11'\n",
      "/home/ryuinw123/miniconda3/envs/deep/compiler_compat/ld: /usr/local/cuda-11.8/lib64/libcufile.so: undefined reference to `std::ostream& std::ostream::_M_insert<double>(double)@GLIBCXX_3.4.9'\n",
      "/home/ryuinw123/miniconda3/envs/deep/compiler_compat/ld: /usr/local/cuda-11.8/lib64/libcufile.so: undefined reference to `typeinfo for long long@CXXABI_1.3'\n",
      "/home/ryuinw123/miniconda3/envs/deep/compiler_compat/ld: /usr/local/cuda-11.8/lib64/libcufile.so: undefined reference to `std::basic_string<char, std::char_traits<char>, std::allocator<char> >::basic_string(char const*, unsigned long, std::allocator<char> const&)@GLIBCXX_3.4'\n",
      "/home/ryuinw123/miniconda3/envs/deep/compiler_compat/ld: /usr/local/cuda-11.8/lib64/libcufile.so: undefined reference to `std::basic_ifstream<char, std::char_traits<char> >::close()@GLIBCXX_3.4'\n",
      "/home/ryuinw123/miniconda3/envs/deep/compiler_compat/ld: /usr/local/cuda-11.8/lib64/libcufile.so: undefined reference to `__cxa_guard_release@CXXABI_1.3'\n",
      "/home/ryuinw123/miniconda3/envs/deep/compiler_compat/ld: /usr/local/cuda-11.8/lib64/libcufile.so: undefined reference to `__cxa_throw@CXXABI_1.3'\n",
      "/home/ryuinw123/miniconda3/envs/deep/compiler_compat/ld: /usr/local/cuda-11.8/lib64/libcufile.so: undefined reference to `std::_Rb_tree_decrement(std::_Rb_tree_node_base*)@GLIBCXX_3.4'\n",
      "/home/ryuinw123/miniconda3/envs/deep/compiler_compat/ld: /usr/local/cuda-11.8/lib64/libcufile.so: undefined reference to `std::basic_filebuf<char, std::char_traits<char> >::~basic_filebuf()@GLIBCXX_3.4'\n",
      "collect2: error: ld returned 1 exit status\n"
     ]
    }
   ],
   "source": [
    "trainer = Trainer(\n",
    "    model,\n",
    "    args,\n",
    "    train_dataset=process_dataset[\"train\"],\n",
    "    eval_dataset=process_dataset[\"validation\"],\n",
    "    tokenizer=tokenizer,\n",
    "    compute_metrics=compute_metrics,\n",
    ")"
   ]
  },
  {
   "cell_type": "code",
   "execution_count": 22,
   "id": "bc26f2e8-23fd-4431-a70e-f4a6e04eceb8",
   "metadata": {},
   "outputs": [
    {
     "name": "stderr",
     "output_type": "stream",
     "text": [
      "\u001b[34m\u001b[1mwandb\u001b[0m: \u001b[33mWARNING\u001b[0m The `run_name` is currently set to the same value as `TrainingArguments.output_dir`. If this was not intended, please specify a different run name by setting the `TrainingArguments.run_name` parameter.\n",
      "Failed to detect the name of this notebook, you can set it manually with the WANDB_NOTEBOOK_NAME environment variable to enable code saving.\n",
      "\u001b[34m\u001b[1mwandb\u001b[0m: Currently logged in as: \u001b[33mryuinw123\u001b[0m (\u001b[33mllm-courseville\u001b[0m). Use \u001b[1m`wandb login --relogin`\u001b[0m to force relogin\n"
     ]
    },
    {
     "data": {
      "text/html": [
       "wandb version 0.19.9 is available!  To upgrade, please run:\n",
       " $ pip install wandb --upgrade"
      ],
      "text/plain": [
       "<IPython.core.display.HTML object>"
      ]
     },
     "metadata": {},
     "output_type": "display_data"
    },
    {
     "data": {
      "text/html": [
       "Tracking run with wandb version 0.15.4"
      ],
      "text/plain": [
       "<IPython.core.display.HTML object>"
      ]
     },
     "metadata": {},
     "output_type": "display_data"
    },
    {
     "data": {
      "text/html": [
       "Run data is saved locally in <code>/home/ryuinw123/simple/wandb/run-20250416_184200-ew98mbpa</code>"
      ],
      "text/plain": [
       "<IPython.core.display.HTML object>"
      ]
     },
     "metadata": {},
     "output_type": "display_data"
    },
    {
     "data": {
      "text/html": [
       "Syncing run <strong><a href='https://wandb.ai/llm-courseville/huggingface/runs/ew98mbpa' target=\"_blank\">modernbert-finetuned-triviaqa-wiki-noqa</a></strong> to <a href='https://wandb.ai/llm-courseville/huggingface' target=\"_blank\">Weights & Biases</a> (<a href='https://wandb.me/run' target=\"_blank\">docs</a>)<br/>"
      ],
      "text/plain": [
       "<IPython.core.display.HTML object>"
      ]
     },
     "metadata": {},
     "output_type": "display_data"
    },
    {
     "data": {
      "text/html": [
       " View project at <a href='https://wandb.ai/llm-courseville/huggingface' target=\"_blank\">https://wandb.ai/llm-courseville/huggingface</a>"
      ],
      "text/plain": [
       "<IPython.core.display.HTML object>"
      ]
     },
     "metadata": {},
     "output_type": "display_data"
    },
    {
     "data": {
      "text/html": [
       " View run at <a href='https://wandb.ai/llm-courseville/huggingface/runs/ew98mbpa' target=\"_blank\">https://wandb.ai/llm-courseville/huggingface/runs/ew98mbpa</a>"
      ],
      "text/plain": [
       "<IPython.core.display.HTML object>"
      ]
     },
     "metadata": {},
     "output_type": "display_data"
    },
    {
     "data": {
      "text/html": [
       "\n",
       "    <div>\n",
       "      \n",
       "      <progress value='101826' max='101826' style='width:300px; height:20px; vertical-align: middle;'></progress>\n",
       "      [101826/101826 3:42:42, Epoch 3/3]\n",
       "    </div>\n",
       "    <table border=\"1\" class=\"dataframe\">\n",
       "  <thead>\n",
       " <tr style=\"text-align: left;\">\n",
       "      <th>Epoch</th>\n",
       "      <th>Training Loss</th>\n",
       "      <th>Validation Loss</th>\n",
       "      <th>Accuracy</th>\n",
       "    </tr>\n",
       "  </thead>\n",
       "  <tbody>\n",
       "    <tr>\n",
       "      <td>1</td>\n",
       "      <td>0.256600</td>\n",
       "      <td>0.278833</td>\n",
       "      <td>0.891678</td>\n",
       "    </tr>\n",
       "    <tr>\n",
       "      <td>2</td>\n",
       "      <td>0.119700</td>\n",
       "      <td>0.237677</td>\n",
       "      <td>0.927553</td>\n",
       "    </tr>\n",
       "    <tr>\n",
       "      <td>3</td>\n",
       "      <td>0.050600</td>\n",
       "      <td>0.298223</td>\n",
       "      <td>0.939769</td>\n",
       "    </tr>\n",
       "  </tbody>\n",
       "</table><p>"
      ],
      "text/plain": [
       "<IPython.core.display.HTML object>"
      ]
     },
     "metadata": {},
     "output_type": "display_data"
    },
    {
     "data": {
      "text/plain": [
       "TrainOutput(global_step=101826, training_loss=0.18841038917588107, metrics={'train_runtime': 13372.4741, 'train_samples_per_second': 243.661, 'train_steps_per_second': 7.615, 'total_flos': 0.0, 'train_loss': 0.18841038917588107, 'epoch': 3.0})"
      ]
     },
     "execution_count": 22,
     "metadata": {},
     "output_type": "execute_result"
    },
    {
     "name": "stdout",
     "output_type": "stream",
     "text": [
      "Error in callback <bound method _WandbInit._pause_backend of <wandb.sdk.wandb_init._WandbInit object at 0x7ff435e8d2a0>> (for post_run_cell), with arguments args (<ExecutionResult object at 7ff435e8f610, execution_count=22 error_before_exec=None error_in_exec=None info=<ExecutionInfo object at 7ff435e8ffd0, raw_cell=\"trainer.train()\n",
      "\" store_history=True silent=False shell_futures=True cell_id=bc26f2e8-23fd-4431-a70e-f4a6e04eceb8> result=TrainOutput(global_step=101826, training_loss=0.18841038917588107, metrics={'train_runtime': 13372.4741, 'train_samples_per_second': 243.661, 'train_steps_per_second': 7.615, 'total_flos': 0.0, 'train_loss': 0.18841038917588107, 'epoch': 3.0})>,),kwargs {}:\n"
     ]
    },
    {
     "ename": "TypeError",
     "evalue": "_WandbInit._pause_backend() takes 1 positional argument but 2 were given",
     "output_type": "error",
     "traceback": [
      "\u001b[0;31m---------------------------------------------------------------------------\u001b[0m",
      "\u001b[0;31mTypeError\u001b[0m                                 Traceback (most recent call last)",
      "\u001b[0;31mTypeError\u001b[0m: _WandbInit._pause_backend() takes 1 positional argument but 2 were given"
     ]
    }
   ],
   "source": [
    "trainer.train()\n"
   ]
  },
  {
   "cell_type": "code",
   "execution_count": null,
   "id": "044067d0-c2ee-4f39-a050-bb8c49ed3f5e",
   "metadata": {},
   "outputs": [],
   "source": []
  }
 ],
 "metadata": {
  "kernelspec": {
   "display_name": "Python 3 (ipykernel)",
   "language": "python",
   "name": "python3"
  },
  "language_info": {
   "codemirror_mode": {
    "name": "ipython",
    "version": 3
   },
   "file_extension": ".py",
   "mimetype": "text/x-python",
   "name": "python",
   "nbconvert_exporter": "python",
   "pygments_lexer": "ipython3",
   "version": "3.10.15"
  }
 },
 "nbformat": 4,
 "nbformat_minor": 5
}
