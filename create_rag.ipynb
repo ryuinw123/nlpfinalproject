{
 "cells": [
  {
   "cell_type": "code",
   "execution_count": 1,
   "id": "0d7ed6c6-5648-41b0-9c46-123863c132eb",
   "metadata": {},
   "outputs": [],
   "source": [
    "import os\n",
    "os.environ[\"CUDA_VISIBLE_DEVICES\"] = \"0\"\n"
   ]
  },
  {
   "cell_type": "code",
   "execution_count": 2,
   "id": "fabe181b-a21a-4e13-b249-31dd0412e889",
   "metadata": {},
   "outputs": [],
   "source": [
    "from datasets import load_from_disk\n",
    "from tqdm import tqdm"
   ]
  },
  {
   "cell_type": "code",
   "execution_count": 3,
   "id": "9b1beced-ddba-46eb-bbd4-750058348c22",
   "metadata": {},
   "outputs": [],
   "source": [
    "# dataset_name = \"wikipedia-nq-corpus-msmarco\"\n",
    "# dataset = load_from_disk(dataset_name)"
   ]
  },
  {
   "cell_type": "code",
   "execution_count": 4,
   "id": "25d2c78e-a0f4-4088-8c4b-833597901bda",
   "metadata": {},
   "outputs": [],
   "source": [
    "# from langchain_huggingface import HuggingFaceEmbeddings\n",
    "\n",
    "# model_kwargs = {'trust_remote_code': True}\n",
    "# embeddings = HuggingFaceEmbeddings(model_name=\"nthakur/contriever-base-msmarco\",model_kwargs=model_kwargs)"
   ]
  },
  {
   "cell_type": "code",
   "execution_count": 5,
   "id": "f29406ba-e9ac-46fd-a623-bb8f8faa1b5b",
   "metadata": {},
   "outputs": [],
   "source": [
    "# dataset[\"train\"][0]"
   ]
  },
  {
   "cell_type": "code",
   "execution_count": 6,
   "id": "5b1cb4c8-07d3-49a8-9af1-3b1c9e68af1d",
   "metadata": {},
   "outputs": [],
   "source": [
    "# from qdrant_client import QdrantClient, models\n",
    "# from langchain_qdrant import FastEmbedSparse, QdrantVectorStore, RetrievalMode\n",
    "# from qdrant_client.http.models import Distance, SparseVectorParams, VectorParams\n",
    "\n",
    "# collection_name = \"wikipedia-dot\"\n",
    "# client = QdrantClient(url=\"http://192.168.2.3:6333\" , timeout=100)\n",
    "# # client.delete_collection(collection_name=collection_name)\n",
    "\n",
    "\n",
    "\n",
    "# # client.create_collection(\n",
    "# #     collection_name=collection_name,\n",
    "# #     vectors_config=models.VectorParams(\n",
    "# #         size=768, distance=models.Distance.DOT, on_disk=True\n",
    "# #     ),\n",
    "# #     optimizers_config=models.OptimizersConfigDiff(\n",
    "# #         indexing_threshold=0,\n",
    "# #     ),\n",
    "# # )"
   ]
  },
  {
   "cell_type": "code",
   "execution_count": 7,
   "id": "7abe357a-ed3b-407c-a0e9-9e00e0882dd2",
   "metadata": {},
   "outputs": [],
   "source": [
    "# dataset[\"train\"]"
   ]
  },
  {
   "cell_type": "code",
   "execution_count": 8,
   "id": "e21bc027-5f88-4850-8bb1-5e727d3eb78b",
   "metadata": {},
   "outputs": [],
   "source": [
    "# from itertools import islice\n",
    "\n",
    "# def batched(iterable, n):\n",
    "#     iterator = iter(iterable)\n",
    "#     while batch := list(islice(iterator, n)):\n",
    "#         yield batch"
   ]
  },
  {
   "cell_type": "code",
   "execution_count": 9,
   "id": "ea0b5384-7623-459a-acc1-3240029d43bf",
   "metadata": {},
   "outputs": [],
   "source": [
    "# from uuid import uuid4\n",
    "\n",
    "# import math\n",
    "# batch_size = 1024\n",
    "# train_data = dataset[\"train\"]\n",
    "# total_batches = math.ceil(len(train_data) / batch_size)\n",
    "\n",
    "# for batch in tqdm(batched(train_data, batch_size), total=total_batches, desc=\"Uploading batches\"):\n",
    "#     ids = [str(uuid4()) for _ in batch]\n",
    "#     vectors = [point.pop(\"embedding\") for point in batch]\n",
    "\n",
    "#     client.upsert(\n",
    "#         collection_name=collection_name,\n",
    "#         points=models.Batch(\n",
    "#             ids=ids,\n",
    "#             vectors=vectors,\n",
    "#             payloads=batch,  # You might want to change this to `payloads` instead\n",
    "#         ),\n",
    "#     )"
   ]
  },
  {
   "cell_type": "code",
   "execution_count": 10,
   "id": "ae25f684-e238-431a-851b-9be6a7b4b31c",
   "metadata": {},
   "outputs": [],
   "source": [
    "# from langchain_chroma import Chroma\n",
    "\n",
    "# vector_store = Chroma(\n",
    "#     client=client,\n",
    "#     collection_name=\"wikipedia\",\n",
    "#     embedding_function=embeddings,\n",
    "#     persist_directory=\"./wikipedia-nq-corpus-msmarco-db\",  # Where to save data locally, remove if not necessary\n",
    "# )"
   ]
  },
  {
   "cell_type": "code",
   "execution_count": 12,
   "id": "d5f98b5d-f07a-44cf-89b8-cd0fc242709b",
   "metadata": {},
   "outputs": [
    {
     "data": {
      "text/plain": [
       "True"
      ]
     },
     "execution_count": 12,
     "metadata": {},
     "output_type": "execute_result"
    }
   ],
   "source": [
    "# client.update_collection(\n",
    "#     collection_name=collection_name,\n",
    "#     # vectors_config=models.VectorParamsDiff(\n",
    "#     #     size=768, distance=models.Distance.EUCLID\n",
    "#     # ),\n",
    "#     # optimizer_config=models.OptimizersConfigDiff(indexing_threshold=20000),\n",
    "#     optimizers_config=models.OptimizersConfigDiff(\n",
    "#         # Bigger size of segments are desired for faster search\n",
    "#         # However it might be slower for indexing\n",
    "#         max_segment_size=500_000, \n",
    "#     ),\n",
    "#     quantization_config=models.ScalarQuantization(\n",
    "#         scalar=models.ScalarQuantizationConfig(\n",
    "#             type=models.ScalarType.INT8,\n",
    "#             always_ram=True,\n",
    "#         ),\n",
    "#     ),\n",
    "# )"
   ]
  },
  {
   "cell_type": "code",
   "execution_count": null,
   "id": "88272fa0-68f0-4cc7-aa20-1872debde425",
   "metadata": {},
   "outputs": [],
   "source": [
    "# models.Distance"
   ]
  },
  {
   "cell_type": "code",
   "execution_count": null,
   "id": "17bd5daf-af76-403e-9ab8-2337f39f4dc7",
   "metadata": {},
   "outputs": [],
   "source": [
    "# from sentence_transformers import SentenceTransformer\n",
    "\n",
    "# model = SentenceTransformer('nthakur/contriever-base-msmarco')\n"
   ]
  },
  {
   "cell_type": "code",
   "execution_count": null,
   "id": "2abce2a4-23b3-4ff0-86c3-127fa9bef26e",
   "metadata": {},
   "outputs": [],
   "source": [
    "# query = \"Who was the man behind The Chipmunks?\"\n",
    "# query_encode = model.encode(query)"
   ]
  },
  {
   "cell_type": "code",
   "execution_count": null,
   "id": "df5a8d16-391b-424b-89f5-f88f83f259e9",
   "metadata": {},
   "outputs": [],
   "source": [
    "# data = \"\"\"(Shitmunk Diss) was taken down from YouTube after it contained a sample of Chipmunk's single \"Oopsy Daisy\", it was then re-loaded, this time with the copyrighted audio removed.After Yungen was filmed running from a man who gripped the rapper's arms, dropping his Nando's meal in the process, he released the track \"Away Games.\" In response to a couple of slights from the track, Chip released his track \"Peri Peri Sauce,\" aimed at the South London rapper. Chip has been an Arsenal fan since childhood and has even visited the Emirates Stadium. Prior to a music career, Chip originally aspired to\"\"\"\n",
    "# data_encode = model.encode(data)"
   ]
  },
  {
   "cell_type": "code",
   "execution_count": null,
   "id": "66729ccd-559e-40eb-ac7a-269075f12e53",
   "metadata": {},
   "outputs": [],
   "source": [
    "# import numpy as np\n",
    "# score = np.dot(query_encode, data_encode)\n",
    "# print(\"Dot Product Score:\", score)\n",
    "# from numpy.linalg import norm\n",
    "\n",
    "# euclidean = norm(query_encode - data_encode)\n",
    "# print(\"Euclidean Distance:\", euclidean)\n",
    "# manhattan = np.sum(np.abs(query_encode - data_encode))\n",
    "# print(\"Manhattan Distance:\", manhattan)\n",
    "# from sklearn.metrics.pairwise import cosine_similarity\n",
    "\n",
    "# # cosine_similarity expects 2D arrays\n",
    "# cosine_sim = cosine_similarity([query_encode], [data_encode])[0][0]\n",
    "# print(\"Cosine Similarity:\", cosine_sim)"
   ]
  },
  {
   "cell_type": "code",
   "execution_count": null,
   "id": "656262a1-3b40-4b40-b9cd-21333de8a5d4",
   "metadata": {},
   "outputs": [],
   "source": [
    "# client.query_points(\n",
    "#     collection_name=collection_name,\n",
    "#     query=query_encode, # <--- Dense vector\n",
    "#     limit = 5\n",
    "# )"
   ]
  },
  {
   "cell_type": "code",
   "execution_count": 19,
   "id": "45871eda-68ca-4320-866b-8a3cac77f3ab",
   "metadata": {},
   "outputs": [
    {
     "name": "stdout",
     "output_type": "stream",
     "text": [
      "status=<CollectionStatus.GREEN: 'green'> optimizer_status=<OptimizersStatusOneOf.OK: 'ok'> vectors_count=None indexed_vectors_count=21015324 points_count=21015324 segments_count=41 config=CollectionConfig(params=CollectionParams(vectors=VectorParams(size=768, distance=<Distance.DOT: 'Dot'>, hnsw_config=None, quantization_config=None, on_disk=True, datatype=None, multivector_config=None), shard_number=1, sharding_method=None, replication_factor=1, write_consistency_factor=1, read_fan_out_factor=None, on_disk_payload=True, sparse_vectors=None), hnsw_config=HnswConfig(m=16, ef_construct=100, full_scan_threshold=10000, max_indexing_threads=0, on_disk=False, payload_m=None), optimizer_config=OptimizersConfig(deleted_threshold=0.2, vacuum_min_vector_number=1000, default_segment_number=0, max_segment_size=500000, memmap_threshold=None, indexing_threshold=20000, flush_interval_sec=5, max_optimization_threads=None), wal_config=WalConfig(wal_capacity_mb=32, wal_segments_ahead=0), quantization_config=ScalarQuantization(scalar=ScalarQuantizationConfig(type=<ScalarType.INT8: 'int8'>, quantile=None, always_ram=True)), strict_mode_config=StrictModeConfig(enabled=False, max_query_limit=None, max_timeout=None, unindexed_filtering_retrieve=None, unindexed_filtering_update=None, search_max_hnsw_ef=None, search_allow_exact=None, search_max_oversampling=None, upsert_max_batchsize=None, max_collection_vector_size_bytes=None, read_rate_limit=None, write_rate_limit=None, max_collection_payload_size_bytes=None, filter_max_conditions=None, condition_max_size=None)) payload_schema={}\n"
     ]
    }
   ],
   "source": [
    "collection_info = client.get_collection(collection_name)\n",
    "print(collection_info)"
   ]
  },
  {
   "cell_type": "code",
   "execution_count": null,
   "id": "4918c4ff-e235-45c3-8fd0-393e5cd5a881",
   "metadata": {},
   "outputs": [],
   "source": []
  }
 ],
 "metadata": {
  "kernelspec": {
   "display_name": "Python 3 (ipykernel)",
   "language": "python",
   "name": "python3"
  },
  "language_info": {
   "codemirror_mode": {
    "name": "ipython",
    "version": 3
   },
   "file_extension": ".py",
   "mimetype": "text/x-python",
   "name": "python",
   "nbconvert_exporter": "python",
   "pygments_lexer": "ipython3",
   "version": "3.10.9"
  }
 },
 "nbformat": 4,
 "nbformat_minor": 5
}
